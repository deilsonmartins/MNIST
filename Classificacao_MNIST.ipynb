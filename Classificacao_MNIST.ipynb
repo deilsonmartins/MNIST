{
  "nbformat": 4,
  "nbformat_minor": 0,
  "metadata": {
    "colab": {
      "name": "Classificacao-MNIST.ipynb",
      "provenance": []
    },
    "kernelspec": {
      "name": "python3",
      "display_name": "Python 3"
    }
  },
  "cells": [
    {
      "cell_type": "markdown",
      "metadata": {
        "id": "OBzqBbQq2dJ2",
        "colab_type": "text"
      },
      "source": [
        "Carregamento do conjunto de dados - MNIST"
      ]
    },
    {
      "cell_type": "code",
      "metadata": {
        "id": "5GYyUAzqq05T",
        "colab_type": "code",
        "colab": {
          "base_uri": "https://localhost:8080/",
          "height": 34
        },
        "outputId": "149d34ae-0c88-4e86-a6e9-3bafa1d74398"
      },
      "source": [
        "from keras.datasets.mnist import load_data\n",
        "\n",
        "(X_train, y_train), (X_test, y_test) = load_data()"
      ],
      "execution_count": 1,
      "outputs": [
        {
          "output_type": "stream",
          "text": [
            "Using TensorFlow backend.\n"
          ],
          "name": "stderr"
        }
      ]
    },
    {
      "cell_type": "markdown",
      "metadata": {
        "id": "eX-E9G102goU",
        "colab_type": "text"
      },
      "source": [
        "Visualização de cinco exemplos do conjunto de dados de treinamento"
      ]
    },
    {
      "cell_type": "code",
      "metadata": {
        "id": "lP1Mxn9v2TyX",
        "colab_type": "code",
        "colab": {
          "base_uri": "https://localhost:8080/",
          "height": 108
        },
        "outputId": "b545880f-fbc0-4432-ec52-9889ac83845a"
      },
      "source": [
        "import matplotlib.pyplot as plt\n",
        "\n",
        "for i, (img, y) in enumerate(zip(X_train[:5].reshape(5, 28, 28), y_train[:5])):\n",
        "      plt.subplot(151 + i)\n",
        "      plt.imshow(img)\n",
        "      plt.xticks([])\n",
        "      plt.yticks([])\n",
        "      plt.title(y)"
      ],
      "execution_count": 2,
      "outputs": [
        {
          "output_type": "display_data",
          "data": {
            "image/png": "[encoded data removed]",
            "text/plain": [
              "<Figure size 432x288 with 5 Axes>"
            ]
          },
          "metadata": {
            "tags": []
          }
        }
      ]
    },
    {
      "cell_type": "code",
      "metadata": {
        "id": "_o1TWkjVrS_S",
        "colab_type": "code",
        "colab": {
          "base_uri": "https://localhost:8080/",
          "height": 87
        },
        "outputId": "308e58e9-3243-41bb-b5d9-b22f82c01e46"
      },
      "source": [
        "print(\"X_train \", str(X_train.shape))\n",
        "print(\"y_train \", str(y_train.shape))\n",
        "print(\"X_test \", str(X_test.shape))\n",
        "print(\"y_test\", str(y_test.shape))"
      ],
      "execution_count": 3,
      "outputs": [
        {
          "output_type": "stream",
          "text": [
            "X_train  (60000, 28, 28)\n",
            "y_train  (60000,)\n",
            "X_test  (10000, 28, 28)\n",
            "y_test (10000,)\n"
          ],
          "name": "stdout"
        }
      ]
    },
    {
      "cell_type": "markdown",
      "metadata": {
        "id": "9g1vvlf14m2n",
        "colab_type": "text"
      },
      "source": [
        "Criando um conjunto de validação"
      ]
    },
    {
      "cell_type": "code",
      "metadata": {
        "id": "sOdnzAXb4pi9",
        "colab_type": "code",
        "colab": {}
      },
      "source": [
        "X_val = X_train[50000:, :, :]\n",
        "X_train = X_train[:50000, :, :]\n",
        "\n",
        "y_val = y_train[50000:]\n",
        "y_train = y_train[:50000]"
      ],
      "execution_count": 4,
      "outputs": []
    },
    {
      "cell_type": "markdown",
      "metadata": {
        "id": "iKIx7yKe2mq5",
        "colab_type": "text"
      },
      "source": [
        "Formato do X_train, y_train, X_test e y_test"
      ]
    },
    {
      "cell_type": "code",
      "metadata": {
        "id": "B_hBnS7Q5d64",
        "colab_type": "code",
        "colab": {
          "base_uri": "https://localhost:8080/",
          "height": 122
        },
        "outputId": "f1d32383-cfd8-46b6-81dd-0ce987de0d35"
      },
      "source": [
        "print(\"X_train \", str(X_train.shape))\n",
        "print(\"y_train \", str(y_train.shape))\n",
        "print(\"X_val \", str(X_val.shape))\n",
        "print(\"y_val \", str(y_val.shape))\n",
        "print(\"X_test \", str(X_test.shape))\n",
        "print(\"y_test\", str(y_test.shape))"
      ],
      "execution_count": 5,
      "outputs": [
        {
          "output_type": "stream",
          "text": [
            "X_train  (50000, 28, 28)\n",
            "y_train  (50000,)\n",
            "X_val  (10000, 28, 28)\n",
            "y_val  (10000,)\n",
            "X_test  (10000, 28, 28)\n",
            "y_test (10000,)\n"
          ],
          "name": "stdout"
        }
      ]
    },
    {
      "cell_type": "markdown",
      "metadata": {
        "id": "AXtT4DKg2uEs",
        "colab_type": "text"
      },
      "source": [
        "Reshape dos dados de Treinamento"
      ]
    },
    {
      "cell_type": "code",
      "metadata": {
        "id": "WSr1oND_rhmW",
        "colab_type": "code",
        "colab": {
          "base_uri": "https://localhost:8080/",
          "height": 70
        },
        "outputId": "43fb9ce2-cea1-484d-8330-fbe971645308"
      },
      "source": [
        "X_train = X_train.reshape((X_train.shape[0], 28, 28, 1))\n",
        "X_val = X_val.reshape((X_val.shape[0], 28, 28, 1))\n",
        "X_test = X_test.reshape((X_test.shape[0], 28, 28, 1))\n",
        "\n",
        "\n",
        "print(\"X_train \", str(X_train.shape))\n",
        "print(\"X_val \", str(X_val.shape))\n",
        "print(\"X_test \", str(X_test.shape))"
      ],
      "execution_count": 6,
      "outputs": [
        {
          "output_type": "stream",
          "text": [
            "X_train  (50000, 28, 28, 1)\n",
            "X_val  (10000, 28, 28, 1)\n",
            "X_test  (10000, 28, 28, 1)\n"
          ],
          "name": "stdout"
        }
      ]
    },
    {
      "cell_type": "markdown",
      "metadata": {
        "id": "WG90gTDg22pA",
        "colab_type": "text"
      },
      "source": [
        "Escalando o conjunto de treinamento [0, 1]"
      ]
    },
    {
      "cell_type": "code",
      "metadata": {
        "id": "HqktV0cmd3qG",
        "colab_type": "code",
        "colab": {
          "base_uri": "https://localhost:8080/",
          "height": 70
        },
        "outputId": "0258a2a6-5ef9-4157-9a7e-5af23a7f0b99"
      },
      "source": [
        "X_train = X_train / 255.0\n",
        "X_val = X_val / 255.0\n",
        "X_test = X_test / 255.0\n",
        "\n",
        "print(\"X_train \", str((X_train.min(), X_train.max())))\n",
        "print(\"X_val \", str((X_val.min(), X_val.max())))\n",
        "print(\"X_test \", str((X_test.min(), X_test.max())))"
      ],
      "execution_count": 7,
      "outputs": [
        {
          "output_type": "stream",
          "text": [
            "X_train  (0.0, 1.0)\n",
            "X_val  (0.0, 1.0)\n",
            "X_test  (0.0, 1.0)\n"
          ],
          "name": "stdout"
        }
      ]
    },
    {
      "cell_type": "markdown",
      "metadata": {
        "id": "P3Id1XNG3JQY",
        "colab_type": "text"
      },
      "source": [
        "Utilizando o OneHot nos dados de rótulos."
      ]
    },
    {
      "cell_type": "code",
      "metadata": {
        "id": "pNkvVX4IsJ87",
        "colab_type": "code",
        "colab": {
          "base_uri": "https://localhost:8080/",
          "height": 70
        },
        "outputId": "8fa81594-1374-4246-bf5e-9659f5ec05f6"
      },
      "source": [
        "from keras.utils import to_categorical\n",
        "\n",
        "num_classes = 10\n",
        "y_train= to_categorical(y_train,num_classes)\n",
        "y_val = to_categorical(y_val,num_classes)\n",
        "y_test = to_categorical(y_test,num_classes)\n",
        "\n",
        "print(\"y_train \", str(y_train.shape))\n",
        "print(\"y_val \", str(y_val.shape))\n",
        "print(\"y_test \", str(y_test.shape))"
      ],
      "execution_count": 8,
      "outputs": [
        {
          "output_type": "stream",
          "text": [
            "y_train  (50000, 10)\n",
            "y_val  (10000, 10)\n",
            "y_test  (10000, 10)\n"
          ],
          "name": "stdout"
        }
      ]
    },
    {
      "cell_type": "markdown",
      "metadata": {
        "id": "KVMY1xgS3ZAt",
        "colab_type": "text"
      },
      "source": [
        "Rede Convolucional "
      ]
    },
    {
      "cell_type": "code",
      "metadata": {
        "id": "6RpppcI_s3R5",
        "colab_type": "code",
        "colab": {}
      },
      "source": [
        "from keras.models import Sequential\n",
        "from keras.layers import Conv2D, MaxPooling2D, Flatten, Dense, Dropout\n",
        "\n",
        "model = Sequential()\n",
        "\n",
        "model.add(Conv2D(filters=32, kernel_size=(3,3), activation='relu', padding='same', input_shape=(28, 28, 1)))\n",
        "model.add(MaxPooling2D(pool_size=(2,2)))\n",
        "model.add(Conv2D(filters=64, kernel_size=(3,3), activation='relu', padding='same'))\n",
        "model.add(MaxPooling2D(pool_size=(2,2)))\n",
        "model.add(Conv2D(filters=64, kernel_size=(3,3), activation='relu', padding='same'))\n",
        "model.add(MaxPooling2D(pool_size=(2,2)))    \n",
        "model.add(Flatten())\n",
        "\n",
        "model.add(Dense(128, activation='relu'))\n",
        "\n",
        "model.add(Dense(10, activation='softmax'))\n",
        "\n",
        "model.compile(optimizer='adam', loss='categorical_crossentropy', metrics=['accuracy'])"
      ],
      "execution_count": 9,
      "outputs": []
    },
    {
      "cell_type": "markdown",
      "metadata": {
        "id": "UccwPJbI3iN8",
        "colab_type": "text"
      },
      "source": [
        "Visualização da rede"
      ]
    },
    {
      "cell_type": "code",
      "metadata": {
        "id": "O0UWSNXmtLI_",
        "colab_type": "code",
        "colab": {
          "base_uri": "https://localhost:8080/",
          "height": 474
        },
        "outputId": "e5380281-0ff7-4a96-dcd4-47a614cec64c"
      },
      "source": [
        "model.summary()"
      ],
      "execution_count": 10,
      "outputs": [
        {
          "output_type": "stream",
          "text": [
            "Model: \"sequential_1\"\n",
            "_________________________________________________________________\n",
            "Layer (type)                 Output Shape              Param #   \n",
            "=================================================================\n",
            "conv2d_1 (Conv2D)            (None, 28, 28, 32)        320       \n",
            "_________________________________________________________________\n",
            "max_pooling2d_1 (MaxPooling2 (None, 14, 14, 32)        0         \n",
            "_________________________________________________________________\n",
            "conv2d_2 (Conv2D)            (None, 14, 14, 64)        18496     \n",
            "_________________________________________________________________\n",
            "max_pooling2d_2 (MaxPooling2 (None, 7, 7, 64)          0         \n",
            "_________________________________________________________________\n",
            "conv2d_3 (Conv2D)            (None, 7, 7, 64)          36928     \n",
            "_________________________________________________________________\n",
            "max_pooling2d_3 (MaxPooling2 (None, 3, 3, 64)          0         \n",
            "_________________________________________________________________\n",
            "flatten_1 (Flatten)          (None, 576)               0         \n",
            "_________________________________________________________________\n",
            "dense_1 (Dense)              (None, 128)               73856     \n",
            "_________________________________________________________________\n",
            "dense_2 (Dense)              (None, 10)                1290      \n",
            "=================================================================\n",
            "Total params: 130,890\n",
            "Trainable params: 130,890\n",
            "Non-trainable params: 0\n",
            "_________________________________________________________________\n"
          ],
          "name": "stdout"
        }
      ]
    },
    {
      "cell_type": "markdown",
      "metadata": {
        "id": "U58tzVSW3kbo",
        "colab_type": "text"
      },
      "source": [
        "Treinamento"
      ]
    },
    {
      "cell_type": "code",
      "metadata": {
        "id": "qQMGxlLztPFq",
        "colab_type": "code",
        "colab": {
          "base_uri": "https://localhost:8080/",
          "height": 582
        },
        "outputId": "e6c3eff2-1fc3-4aa4-a99c-886d6cc99dd3"
      },
      "source": [
        "results = model.fit(X_train, y_train, \n",
        "                    epochs=15, batch_size=64,\n",
        "                    validation_data=(X_val, y_val))"
      ],
      "execution_count": 11,
      "outputs": [
        {
          "output_type": "stream",
          "text": [
            "Train on 50000 samples, validate on 10000 samples\n",
            "Epoch 1/15\n",
            "50000/50000 [==============================] - 70s 1ms/step - loss: 0.1928 - accuracy: 0.9395 - val_loss: 0.0831 - val_accuracy: 0.9742\n",
            "Epoch 2/15\n",
            "50000/50000 [==============================] - 69s 1ms/step - loss: 0.0521 - accuracy: 0.9843 - val_loss: 0.0419 - val_accuracy: 0.9881\n",
            "Epoch 3/15\n",
            "50000/50000 [==============================] - 69s 1ms/step - loss: 0.0351 - accuracy: 0.9891 - val_loss: 0.0335 - val_accuracy: 0.9900\n",
            "Epoch 4/15\n",
            "50000/50000 [==============================] - 69s 1ms/step - loss: 0.0284 - accuracy: 0.9910 - val_loss: 0.0411 - val_accuracy: 0.9877\n",
            "Epoch 5/15\n",
            "50000/50000 [==============================] - 69s 1ms/step - loss: 0.0236 - accuracy: 0.9925 - val_loss: 0.0321 - val_accuracy: 0.9913\n",
            "Epoch 6/15\n",
            "50000/50000 [==============================] - 69s 1ms/step - loss: 0.0181 - accuracy: 0.9940 - val_loss: 0.0369 - val_accuracy: 0.9893\n",
            "Epoch 7/15\n",
            "50000/50000 [==============================] - 69s 1ms/step - loss: 0.0165 - accuracy: 0.9945 - val_loss: 0.0328 - val_accuracy: 0.9910\n",
            "Epoch 8/15\n",
            "50000/50000 [==============================] - 69s 1ms/step - loss: 0.0112 - accuracy: 0.9961 - val_loss: 0.0356 - val_accuracy: 0.9918\n",
            "Epoch 9/15\n",
            "50000/50000 [==============================] - 69s 1ms/step - loss: 0.0108 - accuracy: 0.9961 - val_loss: 0.0404 - val_accuracy: 0.9893\n",
            "Epoch 10/15\n",
            "50000/50000 [==============================] - 69s 1ms/step - loss: 0.0090 - accuracy: 0.9969 - val_loss: 0.0372 - val_accuracy: 0.9920\n",
            "Epoch 11/15\n",
            "50000/50000 [==============================] - 69s 1ms/step - loss: 0.0095 - accuracy: 0.9970 - val_loss: 0.0351 - val_accuracy: 0.9930\n",
            "Epoch 12/15\n",
            "50000/50000 [==============================] - 69s 1ms/step - loss: 0.0081 - accuracy: 0.9972 - val_loss: 0.0381 - val_accuracy: 0.9919\n",
            "Epoch 13/15\n",
            "50000/50000 [==============================] - 69s 1ms/step - loss: 0.0067 - accuracy: 0.9977 - val_loss: 0.0328 - val_accuracy: 0.9930\n",
            "Epoch 14/15\n",
            "50000/50000 [==============================] - 69s 1ms/step - loss: 0.0052 - accuracy: 0.9983 - val_loss: 0.0359 - val_accuracy: 0.9924\n",
            "Epoch 15/15\n",
            "50000/50000 [==============================] - 69s 1ms/step - loss: 0.0060 - accuracy: 0.9977 - val_loss: 0.0381 - val_accuracy: 0.9922\n"
          ],
          "name": "stdout"
        }
      ]
    },
    {
      "cell_type": "markdown",
      "metadata": {
        "id": "pAOOl4Y43mwd",
        "colab_type": "text"
      },
      "source": [
        "Visualização do desempenho"
      ]
    },
    {
      "cell_type": "code",
      "metadata": {
        "id": "CWaVNJxWyJVF",
        "colab_type": "code",
        "colab": {}
      },
      "source": [
        "accuracy = results.history['accuracy']\n",
        "loss = results.history['loss']\n",
        "\n",
        "val_accuracy = results.history['val_accuracy']\n",
        "val_loss = results.history['val_loss']"
      ],
      "execution_count": 12,
      "outputs": []
    },
    {
      "cell_type": "code",
      "metadata": {
        "id": "ZeEqQ9ju0nOx",
        "colab_type": "code",
        "colab": {
          "base_uri": "https://localhost:8080/",
          "height": 312
        },
        "outputId": "a2c6f56d-a41f-4216-b094-1575b2d6f765"
      },
      "source": [
        "plt.plot(loss, 'go:', color=\"red\", label=\"Loss no treinamento\")\n",
        "plt.plot(val_loss,'r^-',  color=\"blue\", label=\"Loss na validação\")\n",
        "plt.title(\"Treinamento & Validação\")\n",
        "plt.ylabel(\"Loss\")\n",
        "plt.xlabel(\"Epochs\")\n",
        "plt.grid(True)\n",
        "plt.legend()\n",
        "plt.show()\n",
        "plt.savefig(\"loss.png\", format=\"png\")"
      ],
      "execution_count": 13,
      "outputs": [
        {
          "output_type": "display_data",
          "data": {
            "image/png": "[encoded data removed]",
            "text/plain": [
              "<Figure size 432x288 with 1 Axes>"
            ]
          },
          "metadata": {
            "tags": [],
            "needs_background": "light"
          }
        },
        {
          "output_type": "display_data",
          "data": {
            "text/plain": [
              "<Figure size 432x288 with 0 Axes>"
            ]
          },
          "metadata": {
            "tags": []
          }
        }
      ]
    },
    {
      "cell_type": "code",
      "metadata": {
        "id": "2mjECAXXyobb",
        "colab_type": "code",
        "colab": {
          "base_uri": "https://localhost:8080/",
          "height": 312
        },
        "outputId": "3f58dbd5-0d25-4232-cd01-dd155b11940b"
      },
      "source": [
        "plt.plot(accuracy, 'go:', color=\"red\", label=\"Acurácia no treinamento\")\n",
        "plt.plot(val_accuracy,'r^-',  color=\"blue\", label=\"Acurácia na validação\")\n",
        "plt.title(\"Treinamento & Validação\")\n",
        "plt.ylabel(\"Acurácia\")\n",
        "plt.xlabel(\"Epochs\")\n",
        "plt.grid(True)\n",
        "plt.legend()\n",
        "plt.show()\n",
        "plt.savefig(\"acuracia.png\", format=\"png\")"
      ],
      "execution_count": 14,
      "outputs": [
        {
          "output_type": "display_data",
          "data": {
            "image/png": "[encoded data removed]",
            "text/plain": [
              "<Figure size 432x288 with 1 Axes>"
            ]
          },
          "metadata": {
            "tags": [],
            "needs_background": "light"
          }
        },
        {
          "output_type": "display_data",
          "data": {
            "text/plain": [
              "<Figure size 432x288 with 0 Axes>"
            ]
          },
          "metadata": {
            "tags": []
          }
        }
      ]
    },
    {
      "cell_type": "markdown",
      "metadata": {
        "id": "28xvB8NQ3sOd",
        "colab_type": "text"
      },
      "source": [
        "Acurácia no conjunto de testes"
      ]
    },
    {
      "cell_type": "code",
      "metadata": {
        "id": "tr-YAlE-1cFn",
        "colab_type": "code",
        "colab": {
          "base_uri": "https://localhost:8080/",
          "height": 52
        },
        "outputId": "749978d1-070e-4474-dd0a-c0b4ea8d7c7d"
      },
      "source": [
        "test_loss, test_accuracy = model.evaluate(X_test, y_test, batch_size=64)\n",
        "print('Acurácia: %.4f' % (test_accuracy))"
      ],
      "execution_count": 15,
      "outputs": [
        {
          "output_type": "stream",
          "text": [
            "10000/10000 [==============================] - 3s 345us/step\n",
            "Acurácia: 0.9919\n"
          ],
          "name": "stdout"
        }
      ]
    },
    {
      "cell_type": "markdown",
      "metadata": {
        "id": "HUBTzmcF3w5K",
        "colab_type": "text"
      },
      "source": [
        "Previsões"
      ]
    },
    {
      "cell_type": "code",
      "metadata": {
        "id": "gZI1ir7Y1yh8",
        "colab_type": "code",
        "colab": {}
      },
      "source": [
        "import numpy as np\n",
        "previsoes = model.predict(X_test)\n",
        "prev_5 = np.argmax(previsoes, axis=1)[:5]"
      ],
      "execution_count": 18,
      "outputs": []
    },
    {
      "cell_type": "code",
      "metadata": {
        "id": "w04fIljfCfoS",
        "colab_type": "code",
        "colab": {
          "base_uri": "https://localhost:8080/",
          "height": 108
        },
        "outputId": "4ec7b2a7-5e80-4f61-ad92-d5194f4747d8"
      },
      "source": [
        "for i, (prev) in enumerate(prev_5):\n",
        "      plt.subplot(151 + i)\n",
        "      plt.imshow(X_test[i].reshape(28, 28))\n",
        "      plt.xticks([])\n",
        "      plt.yticks([])\n",
        "      plt.title(\"Prev: \" + str(prev))\n"
      ],
      "execution_count": 19,
      "outputs": [
        {
          "output_type": "display_data",
          "data": {
            "image/png": "[encoded data removed]",
            "text/plain": [
              "<Figure size 432x288 with 5 Axes>"
            ]
          },
          "metadata": {
            "tags": []
          }
        }
      ]
    }
  ]
}